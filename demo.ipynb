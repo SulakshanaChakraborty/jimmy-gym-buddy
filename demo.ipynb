{
 "cells": [
  {
   "cell_type": "code",
   "execution_count": 4,
   "metadata": {},
   "outputs": [],
   "source": [
    "import torch"
   ]
  },
  {
   "cell_type": "code",
   "execution_count": 4,
   "metadata": {},
   "outputs": [
    {
     "name": "stdout",
     "output_type": "stream",
     "text": [
      "<think>\n",
      "Okay, so I want to figure out why the sky is blue. I remember seeing it every day, but I never really thought about why it's that color. Maybe when I was a kid, my dad told me something about it being because of light and molecules in the air. But now, as an adult, I can think more deeply about it.\n",
      "\n",
      "First off, I know that white light is composed of different colors: red, orange, yellow, green, blue, indigo, and violet. This spectrum was discovered by Newton, right? So if the sky isn't showing all these colors at once, why does it look blue?\n",
      "\n",
      "Wait, in the daytime, when there's lots of sunlight, I've noticed that the sky is blue most of the time but sometimes turns gray or white during sunrise or sunset. That makes me think that maybe the color depends on the time of day and the angle we're looking at it from.\n",
      "\n",
      "So, let me try to break this down. When the sun is high in the sky, like midday, the light from the sun has to pass through less atmosphere. But when it's near the horizon during sunrise or sunset, the light has to go through more of Earth's atmosphere. That might be a key point.\n",
      "\n",
      "Why does passing through more atmosphere change the color? Maybe because as the light travels through the air, molecules in the atmosphere scatter smaller particles. I've heard something about Rayleigh scattering before. Was it something like that?\n",
      "\n",
      "Rayleigh scattering is when light scatters off small particles in the atmosphere. The shorter wavelengths of light, which are blue and violet, get scattered more than the longer wavelengths like red and orange. So during sunrise or sunset, when the light has to pass through more of the atmosphere, these shorter blue wavelengths get scattered out, leaving the sky appearing more red or orange.\n",
      "\n",
      "But wait, during midday, there's less scattering because the sun is higher and the light doesn't have as far to travel through the atmosphere. So most of the blue light gets to us without being scattered much, making the sky look blue instead of those other colors.\n",
      "\n",
      "I also remember that sometimes the sky can appear gray or white at certain times, especially during hazy days or when there's pollution. That must be because all the different wavelengths are getting scattered away or not reaching our eyes as clearly, so they blend into a grayer shade.\n",
      "\n",
      "Let me try to visualize this. When the sun is near the horizon, light has to travel through more atmosphere filled with particles like dust, water droplets, and gas molecules. These particles cause the blue light to scatter in all directions, making it look brighter from our perspective. But since we can't see the scattered blue as a single color; instead, other wavelengths dominate.\n",
      "\n",
      "On the other hand, when the sun is high, the atmosphere doesn't block much of the blue light, so most of the blue reaches us directly, and that's why the sky looks blue.\n",
      "\n",
      "I wonder if there are exceptions or variations. For example, during cloudy days, sometimes the sky can look gray because the clouds scatter the sunlight in all directions, but I think that's more about the presence of clouds rather than just atmospheric scattering alone.\n",
      "\n",
      "Also, how does this relate to other colors? Like red at sunrise and sunset—why isn't it blue? Oh right, because red is actually a longer wavelength. The Rayleigh formula says shorter wavelengths scatter more, so blue scatters more and gets scattered out, leaving the sky appear blue when the sun is high.\n",
      "\n",
      "So putting it all together: the sky appears blue during midday when sunlight passes through less atmosphere, allowing most of the blue light to reach us without much scattering. When the sun is near the horizon, the longer journey through Earth's atmosphere scatters more of the shorter blue wavelengths, causing the sky to appear red or orange at sunrise and sunset.\n",
      "\n",
      "I should also consider if there are other factors that contribute to this phenomenon. Maybe pollution or certain atmospheric conditions could affect how the light scatters differently? For instance, during hazy days, particles in the air might scatter light more uniformly, leading to a grayish appearance instead of a blue sky.\n",
      "\n",
      "Another thought: does the Earth's rotation have any role here? I don't think so directly, but maybe it's just about where the sun is in the sky. When it's overhead, we see blue; when it's on the horizon, red/orange appears.\n",
      "\n",
      "So to summarize my thoughts:\n",
      "\n",
      "1. The sky appears blue during midday because sunlight passes through less atmosphere, allowing more blue light (shorter wavelength) to reach us.\n",
      "2. During sunrise and sunset, light has to pass through more atmosphere, causing shorter wavelengths like blue to scatter away, making the sky appear red or orange.\n",
      "3. This phenomenon is due to Rayleigh scattering, which scatters shorter wavelengths more effectively.\n",
      "4. Other factors like atmospheric conditions (haze) can affect the coloration of the sky.\n",
      "\n",
      "I think that's a solid understanding. I should probably look up some sources or explanations to confirm if my reasoning is accurate and to get more details on how exactly the scattering works with different wavelengths.\n",
      "</think>\n",
      "\n",
      "The sky appears blue during midday due to the phenomenon of Rayleigh scattering, where sunlight passes through less atmosphere, allowing shorter (blue) wavelengths to reach us without significant scattering. During sunrise and sunset, light travels through more atmosphere, causing these shorter wavelengths to scatter away, resulting in the appearance of red or orange skies. This explains why the sky is blue at noon but often takes on other colors during different times of the day.\n",
      "\n",
      "**Answer:**\n",
      "\n",
      "The sky appears blue when sunlight passes through less of Earth's atmosphere, allowing shorter (blue) wavelengths to reach our eyes without significant scattering. During sunrise and sunset, longer wavelengths dominate due to Rayleigh scattering, resulting in red or orange hues. Other factors like atmospheric conditions can affect the sky's color, such as hazy days leading to a gray appearance.\n",
      "<think>\n",
      "Okay, so I want to figure out why the sky is blue. I remember seeing it every day, but I never really thought about why it's that color. Maybe when I was a kid, my dad told me something about it being because of light and molecules in the air. But now, as an adult, I can think more deeply about it.\n",
      "\n",
      "First off, I know that white light is composed of different colors: red, orange, yellow, green, blue, indigo, and violet. This spectrum was discovered by Newton, right? So if the sky isn't showing all these colors at once, why does it look blue?\n",
      "\n",
      "Wait, in the daytime, when there's lots of sunlight, I've noticed that the sky is blue most of the time but sometimes turns gray or white during sunrise or sunset. That makes me think that maybe the color depends on the time of day and the angle we're looking at it from.\n",
      "\n",
      "So, let me try to break this down. When the sun is high in the sky, like midday, the light from the sun has to pass through less atmosphere. But when it's near the horizon during sunrise or sunset, the light has to go through more of Earth's atmosphere. That might be a key point.\n",
      "\n",
      "Why does passing through more atmosphere change the color? Maybe because as the light travels through the air, molecules in the atmosphere scatter smaller particles. I've heard something about Rayleigh scattering before. Was it something like that?\n",
      "\n",
      "Rayleigh scattering is when light scatters off small particles in the atmosphere. The shorter wavelengths of light, which are blue and violet, get scattered more than the longer wavelengths like red and orange. So during sunrise or sunset, when the light has to pass through more of the atmosphere, these shorter blue wavelengths get scattered out, leaving the sky appearing more red or orange.\n",
      "\n",
      "But wait, during midday, there's less scattering because the sun is higher and the light doesn't have as far to travel through the atmosphere. So most of the blue light gets to us without being scattered much, making the sky look blue instead of those other colors.\n",
      "\n",
      "I also remember that sometimes the sky can appear gray or white at certain times, especially during hazy days or when there's pollution. That must be because all the different wavelengths are getting scattered away or not reaching our eyes as clearly, so they blend into a grayer shade.\n",
      "\n",
      "Let me try to visualize this. When the sun is near the horizon, light has to travel through more atmosphere filled with particles like dust, water droplets, and gas molecules. These particles cause the blue light to scatter in all directions, making it look brighter from our perspective. But since we can't see the scattered blue as a single color; instead, other wavelengths dominate.\n",
      "\n",
      "On the other hand, when the sun is high, the atmosphere doesn't block much of the blue light, so most of the blue reaches us directly, and that's why the sky looks blue.\n",
      "\n",
      "I wonder if there are exceptions or variations. For example, during cloudy days, sometimes the sky can look gray because the clouds scatter the sunlight in all directions, but I think that's more about the presence of clouds rather than just atmospheric scattering alone.\n",
      "\n",
      "Also, how does this relate to other colors? Like red at sunrise and sunset—why isn't it blue? Oh right, because red is actually a longer wavelength. The Rayleigh formula says shorter wavelengths scatter more, so blue scatters more and gets scattered out, leaving the sky appear blue when the sun is high.\n",
      "\n",
      "So putting it all together: the sky appears blue during midday when sunlight passes through less atmosphere, allowing most of the blue light to reach us without much scattering. When the sun is near the horizon, the longer journey through Earth's atmosphere scatters more of the shorter blue wavelengths, causing the sky to appear red or orange at sunrise and sunset.\n",
      "\n",
      "I should also consider if there are other factors that contribute to this phenomenon. Maybe pollution or certain atmospheric conditions could affect how the light scatters differently? For instance, during hazy days, particles in the air might scatter light more uniformly, leading to a grayish appearance instead of a blue sky.\n",
      "\n",
      "Another thought: does the Earth's rotation have any role here? I don't think so directly, but maybe it's just about where the sun is in the sky. When it's overhead, we see blue; when it's on the horizon, red/orange appears.\n",
      "\n",
      "So to summarize my thoughts:\n",
      "\n",
      "1. The sky appears blue during midday because sunlight passes through less atmosphere, allowing more blue light (shorter wavelength) to reach us.\n",
      "2. During sunrise and sunset, light has to pass through more atmosphere, causing shorter wavelengths like blue to scatter away, making the sky appear red or orange.\n",
      "3. This phenomenon is due to Rayleigh scattering, which scatters shorter wavelengths more effectively.\n",
      "4. Other factors like atmospheric conditions (haze) can affect the coloration of the sky.\n",
      "\n",
      "I think that's a solid understanding. I should probably look up some sources or explanations to confirm if my reasoning is accurate and to get more details on how exactly the scattering works with different wavelengths.\n",
      "</think>\n",
      "\n",
      "The sky appears blue during midday due to the phenomenon of Rayleigh scattering, where sunlight passes through less atmosphere, allowing shorter (blue) wavelengths to reach us without significant scattering. During sunrise and sunset, light travels through more atmosphere, causing these shorter wavelengths to scatter away, resulting in the appearance of red or orange skies. This explains why the sky is blue at noon but often takes on other colors during different times of the day.\n",
      "\n",
      "**Answer:**\n",
      "\n",
      "The sky appears blue when sunlight passes through less of Earth's atmosphere, allowing shorter (blue) wavelengths to reach our eyes without significant scattering. During sunrise and sunset, longer wavelengths dominate due to Rayleigh scattering, resulting in red or orange hues. Other factors like atmospheric conditions can affect the sky's color, such as hazy days leading to a gray appearance.\n"
     ]
    }
   ],
   "source": [
    "from ollama import chat\n",
    "from ollama import ChatResponse\n",
    "\n",
    "response: ChatResponse = chat(model='deepseek-r1', messages=[\n",
    "  {\n",
    "    'role': 'user',\n",
    "    'content': 'Why is the sky blue?',\n",
    "  },\n",
    "])\n",
    "print(response['message']['content'])\n",
    "# or access fields directly from the response object\n",
    "print(response.message.content)"
   ]
  },
  {
   "cell_type": "code",
   "execution_count": 5,
   "metadata": {},
   "outputs": [],
   "source": [
    "def ollama_llm(question, context):\n",
    "   formatted_prompt = f\"Question: {question}\\n\\nContext: {context}\"\n",
    "\n",
    "   response = ollama.chat(model=\"deepseek-r1\", messages=[{'role': 'user', 'content': formatted_prompt}])\n",
    "\n",
    "   response_content = response['message']['content']\n",
    "    \n",
    "   # Remove content between <think> and </think> tags to remove thinking output\n",
    "   final_answer = re.sub(r'<think>.*?</think>', '', response_content, flags=re.DOTALL).strip()\n",
    "\n",
    "   return final_answer\n"
   ]
  },
  {
   "cell_type": "code",
   "execution_count": 7,
   "metadata": {},
   "outputs": [
    {
     "name": "stdout",
     "output_type": "stream",
     "text": [
      "The sky appears blue during midday due to the phenomenon of Rayleigh scattering, where sunlight passes through less atmosphere, allowing shorter (blue) wavelengths to reach us without significant scattering. During sunrise and sunset, light travels through more atmosphere, causing these shorter wavelengths to scatter away, resulting in the appearance of red or orange skies. This explains why the sky is blue at noon but often takes on other colors during different times of the day.\n",
      "\n",
      "**Answer:**\n",
      "\n",
      "The sky appears blue when sunlight passes through less of Earth's atmosphere, allowing shorter (blue) wavelengths to reach our eyes without significant scattering. During sunrise and sunset, longer wavelengths dominate due to Rayleigh scattering, resulting in red or orange hues. Other factors like atmospheric conditions can affect the sky's color, such as hazy days leading to a gray appearance.\n"
     ]
    }
   ],
   "source": [
    "import re\n",
    "response_content = response['message']['content']\n",
    "res = re.sub(r'<think>.*?</think>', '', response_content, flags=re.DOTALL).strip()\n",
    "print(res)\n"
   ]
  }
 ],
 "metadata": {
  "kernelspec": {
   "display_name": "venv",
   "language": "python",
   "name": "python3"
  },
  "language_info": {
   "codemirror_mode": {
    "name": "ipython",
    "version": 3
   },
   "file_extension": ".py",
   "mimetype": "text/x-python",
   "name": "python",
   "nbconvert_exporter": "python",
   "pygments_lexer": "ipython3",
   "version": "3.11.7"
  }
 },
 "nbformat": 4,
 "nbformat_minor": 2
}
